{
 "cells": [
  {
   "cell_type": "code",
   "execution_count": 6,
   "id": "82ce4a",
   "metadata": {
    "collapsed": false
   },
   "outputs": [
    {
     "name": "stdout",
     "output_type": "stream",
     "text": [
      "Sub-fields in AI are:\n",
      "Machine Learning\n",
      "Neural Networks\n",
      "Vision\n",
      "Robotics\n",
      "Speech Processing\n",
      "Natural Language Processing\n"
     ]
    },
    {
     "data": {
      "text/plain": [
       "'These are Sub-fields in AI '"
      ]
     },
     "execution_count": 6,
     "metadata": {
     },
     "output_type": "execute_result"
    }
   ],
   "source": [
    "#Subfields\n",
    "def Subfields():\n",
    "    print(\"Sub-fields in AI are:\")\n",
    "    message=\"These are Sub-fields in AI \"\n",
    "    inp1=\"Machine Learning\"\n",
    "    inp2=\"Neural Networks\"  \n",
    "    inp3=\"Vision\"\n",
    "    inp4=\"Robotics\"  \n",
    "    inp5=\"Speech Processing\"\n",
    "    inp6=\"Natural Language Processing\"\n",
    "    print(inp1)\n",
    "    print(inp2)\n",
    "    print(inp3)\n",
    "    print(inp4)\n",
    "    print(inp5)\n",
    "    print(inp6)\n",
    "    return message\n",
    "Subfields()"
   ]
  },
  {
   "cell_type": "code",
   "execution_count": 7,
   "id": "f3b5f3",
   "metadata": {
    "cocalc": {
     "outputs": {
      "0": {
       "name": "input",
       "opts": {
        "password": false,
        "prompt": "Enter a number:"
       },
       "output_type": "stream",
       "value": "67658"
      }
     }
    },
    "collapsed": false
   },
   "outputs": [
    {
     "name": "stdout",
     "output_type": "stream",
     "text": "Enter a number: 67658"
    },
    {
     "name": "stdout",
     "output_type": "stream",
     "text": [
      "67658 is Even Number\n"
     ]
    },
    {
     "data": {
      "text/plain": [
       "'number is Even'"
      ]
     },
     "execution_count": 7,
     "metadata": {
     },
     "output_type": "execute_result"
    }
   ],
   "source": [
    "# Create a function that checks whether the given number is Odd or Even\n",
    "def oddoreven():\n",
    "    inp=int(input(\"Enter a number:\"))\n",
    "    if(inp%2==0):\n",
    "        print(inp,\"is Even Number\")\n",
    "        op=\"number is Even\"\n",
    "    else:\n",
    "        print(inp,\"is Odd Number\")\n",
    "        op=\"Number is Odd\"\n",
    "    return op\n",
    "oddoreven()\n",
    "    \n"
   ]
  },
  {
   "cell_type": "code",
   "execution_count": 9,
   "id": "4a91d3",
   "metadata": {
    "cocalc": {
     "outputs": {
      "0": {
       "name": "input",
       "opts": {
        "password": false,
        "prompt": "Enter your Gender(male or female):"
       },
       "output_type": "stream",
       "value": "male"
      },
      "1": {
       "name": "input",
       "opts": {
        "password": false,
        "prompt": "Enter your age:"
       },
       "output_type": "stream",
       "value": "25"
      }
     }
    },
    "collapsed": false
   },
   "outputs": [
    {
     "name": "stdout",
     "output_type": "stream",
     "text": "Enter your Gender(male or female): male"
    },
    {
     "name": "stdout",
     "output_type": "stream",
     "text": "Enter your age: 25"
    },
    {
     "name": "stdout",
     "output_type": "stream",
     "text": [
      "Eligible for Marriage\n"
     ]
    },
    {
     "data": {
      "text/plain": [
       "'Happy to wish you for your marriage'"
      ]
     },
     "execution_count": 9,
     "metadata": {
     },
     "output_type": "execute_result"
    }
   ],
   "source": [
    "# Create a function that tells elegibility of marriage for male and female according to their age limit like 21 for male and 18 for female\n",
    "def elegibility_of_marriage():\n",
    "    gender=input(\"Enter your Gender(male or female):\" )\n",
    "    age=int(input(\"Enter your age:\"))\n",
    "    if(gender==\"male\" and age>=21):\n",
    "        print(\"Eligible for Marriage\")\n",
    "        mess=\"Happy to wish you for your marriage\"\n",
    "    elif(gender==\"female\" and age>=18):\n",
    "        print(\"Eligible for Marriage\")\n",
    "        mess=\"Happy to wish you for your marriage\"\n",
    "    else:\n",
    "        print(\"Not Eligible for Marriage\")\n",
    "        mess=\"This age  is not for enter into marriage \"\n",
    "    return mess\n",
    "elegibility_of_marriage()   \n",
    "                   "
   ]
  },
  {
   "cell_type": "code",
   "execution_count": 10,
   "id": "733624",
   "metadata": {
    "cocalc": {
     "outputs": {
      "0": {
       "name": "input",
       "opts": {
        "password": false,
        "prompt": "Enter Sunject1 marks:"
       },
       "output_type": "stream",
       "value": "89"
      },
      "1": {
       "name": "input",
       "opts": {
        "password": false,
        "prompt": "Enter Sunject2 marks:"
       },
       "output_type": "stream",
       "value": "82"
      },
      "2": {
       "name": "input",
       "opts": {
        "password": false,
        "prompt": "Enter Sunject3 marks:"
       },
       "output_type": "stream",
       "value": "98"
      },
      "3": {
       "name": "input",
       "opts": {
        "password": false,
        "prompt": "Enter Sunject4 marks:"
       },
       "output_type": "stream",
       "value": "92"
      },
      "4": {
       "name": "input",
       "opts": {
        "password": false,
        "prompt": "Enter Sunject5 marks:"
       },
       "output_type": "stream",
       "value": "88"
      }
     }
    },
    "collapsed": false
   },
   "outputs": [
    {
     "name": "stdout",
     "output_type": "stream",
     "text": "Enter Sunject1 marks: 89"
    },
    {
     "name": "stdout",
     "output_type": "stream",
     "text": "Enter Sunject2 marks: 82"
    },
    {
     "name": "stdout",
     "output_type": "stream",
     "text": "Enter Sunject3 marks: 98"
    },
    {
     "name": "stdout",
     "output_type": "stream",
     "text": "Enter Sunject4 marks: 92"
    },
    {
     "name": "stdout",
     "output_type": "stream",
     "text": "Enter Sunject5 marks: 88"
    },
    {
     "name": "stdout",
     "output_type": "stream",
     "text": [
      "Total Marks: 449\n",
      "Percentage: 89.8\n"
     ]
    },
    {
     "data": {
      "text/plain": [
       "'Congratulations'"
      ]
     },
     "execution_count": 10,
     "metadata": {
     },
     "output_type": "execute_result"
    }
   ],
   "source": [
    "# calculate the percentage of your 10th mark\n",
    "def Find_percentage():\n",
    "    Sub1=int(input(\"Enter Sunject1 marks:\"))\n",
    "    Sub2=int(input(\"Enter Sunject2 marks:\"))\n",
    "    Sub3=int(input(\"Enter Sunject3 marks:\"))\n",
    "    Sub4=int(input(\"Enter Sunject4 marks:\"))\n",
    "    Sub5=int(input(\"Enter Sunject5 marks:\"))\n",
    "    Total=(Sub1+Sub2+Sub3+Sub4+Sub5)\n",
    "    percentage=Total/5  #no of subject is 5\n",
    "    print(\"Total Marks:\",Total)\n",
    "    print(\"Percentage:\",percentage)\n",
    "    mess=\"Congratulations\"\n",
    "    return mess\n",
    "Find_percentage()"
   ]
  },
  {
   "cell_type": "code",
   "execution_count": 19,
   "id": "3d12d5",
   "metadata": {
    "cocalc": {
     "outputs": {
      "1": {
       "name": "input",
       "opts": {
        "password": false,
        "prompt": "Height:"
       },
       "output_type": "stream",
       "value": "10"
      },
      "2": {
       "name": "input",
       "opts": {
        "password": false,
        "prompt": "breath:"
       },
       "output_type": "stream",
       "value": "8"
      }
     }
    },
    "collapsed": false
   },
   "outputs": [
    {
     "name": "stdout",
     "output_type": "stream",
     "text": [
      "Area formula: (Height*Breadth)/2\n"
     ]
    },
    {
     "name": "stdout",
     "output_type": "stream",
     "text": "Height: 10"
    },
    {
     "name": "stdout",
     "output_type": "stream",
     "text": "breath: 8"
    },
    {
     "name": "stdout",
     "output_type": "stream",
     "text": [
      "Area of Triangle: 40.0\n"
     ]
    },
    {
     "data": {
      "text/plain": [
       "'Your output is here'"
      ]
     },
     "execution_count": 19,
     "metadata": {
     },
     "output_type": "execute_result"
    }
   ],
   "source": [
    "#print area and perimeter of triangle using class and functions\n",
    "def area_of_triangele():    \n",
    "    print(\"Area formula: (Height*Breadth)/2\")\n",
    "    height=int(input(\"Height:\"))\n",
    "    breath=int(input(\"breath:\"))\n",
    "    area=(height*breath)/2\n",
    "    print(\"Area of Triangle:\",area)\n",
    "    mess=\"Your output is here\"\n",
    "    return mess\n",
    "def perimeter():\n",
    "    print(\"Perimeter formula: Height1+Height2+Breadth\")\n",
    "    height1=int(input(\"Height1:\"))\n",
    "    height2=int(input(\"Height2:\"))\n",
    "    breath1=int(input(\"breath1:\"))\n",
    "    peri=height1+height2+breath1\n",
    "    print(\"Perimeter of Triangle:\",peri)\n",
    "    mess=\"Your output is here\"\n",
    "    return mess\n",
    "area_of_triangele()\n",
    "\n",
    "    \n"
   ]
  }
 ],
 "metadata": {
  "kernelspec": {
   "argv": [
    "/usr/bin/python3",
    "-m",
    "ipykernel",
    "--HistoryManager.enabled=False",
    "--matplotlib=inline",
    "-c",
    "%config InlineBackend.figure_formats = set(['retina'])\nimport matplotlib; matplotlib.rcParams['figure.figsize'] = (12, 7)",
    "-f",
    "{connection_file}"
   ],
   "display_name": "Python 3 (system-wide)",
   "env": {
   },
   "language": "python",
   "metadata": {
    "cocalc": {
     "description": "Python 3 programming language",
     "priority": 100,
     "url": "https://www.python.org/"
    }
   },
   "name": "python3",
   "resource_dir": "/ext/jupyter/kernels/python3"
  },
  "language_info": {
   "codemirror_mode": {
    "name": "ipython",
    "version": 3
   },
   "file_extension": ".py",
   "mimetype": "text/x-python",
   "name": "python",
   "nbconvert_exporter": "python",
   "pygments_lexer": "ipython3",
   "version": "3.10.12"
  }
 },
 "nbformat": 4,
 "nbformat_minor": 4
}