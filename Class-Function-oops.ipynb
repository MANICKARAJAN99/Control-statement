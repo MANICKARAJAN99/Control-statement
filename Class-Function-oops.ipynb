{
 "cells": [
  {
   "cell_type": "code",
   "execution_count": 12,
   "id": "02a45f",
   "metadata": {
    "collapsed": false
   },
   "outputs": [
    {
     "name": "stdout",
     "output_type": "stream",
     "text": [
      "Sub-fields in AI are:\n",
      "Machine Learning\n",
      "Neural Networks\n",
      "Vision\n",
      "Robotics\n",
      "Speech Processing\n",
      "Natural Language Processing\n"
     ]
    },
    {
     "data": {
      "text/plain": [
       "'These are the Subfields in AI'"
      ]
     },
     "execution_count": 12,
     "metadata": {
     },
     "output_type": "execute_result"
    }
   ],
   "source": [
    "# Create a class and function, and list out the items in the list\n",
    "class SubfieldsInAI():\n",
    "    def Subfields():\n",
    "        print(\"Sub-fields in AI are:\")\n",
    "        inp=(\"Machine Learning\\nNeural Networks\\nVision\\nRobotics\\nSpeech Processing\\nNatural Language Processing\")\n",
    "        print(inp)\n",
    "        mess=\"These are the Subfields in AI\"\n",
    "        return mess\n",
    "SubfieldsInAI.Subfields()\n"
   ]
  },
  {
   "cell_type": "code",
   "execution_count": 13,
   "id": "c180b6",
   "metadata": {
    "cocalc": {
     "outputs": {
      "0": {
       "name": "input",
       "opts": {
        "password": false,
        "prompt": "Enter the number:"
       },
       "output_type": "stream",
       "value": "573829"
      }
     }
    },
    "collapsed": false
   },
   "outputs": [
    {
     "name": "stdout",
     "output_type": "stream",
     "text": "Enter the number: 573829"
    },
    {
     "name": "stdout",
     "output_type": "stream",
     "text": [
      "Number is Odd\n"
     ]
    },
    {
     "data": {
      "text/plain": [
       "'This is ODD Number'"
      ]
     },
     "execution_count": 13,
     "metadata": {
     },
     "output_type": "execute_result"
    }
   ],
   "source": [
    "# Create a function that checks whether the given number is Odd or Even\n",
    "class Odd_or_Even():\n",
    "    def oddeven():\n",
    "        num=int(input(\"Enter the number:\"))\n",
    "        if (num%2==0):\n",
    "            print(\"Number is Even\")\n",
    "            mess=\"This is EVEN Number\"\n",
    "        else:\n",
    "            print(\"Number is Odd\")\n",
    "            mess=\"This is ODD Number\"\n",
    "        return mess\n",
    "Odd_or_Even.oddeven()\n"
   ]
  },
  {
   "cell_type": "code",
   "execution_count": 4,
   "id": "11a972",
   "metadata": {
    "cocalc": {
     "outputs": {
      "0": {
       "name": "input",
       "opts": {
        "password": false,
        "prompt": "Enter your Gender(male or female):"
       },
       "output_type": "stream",
       "value": "male"
      },
      "1": {
       "name": "input",
       "opts": {
        "password": false,
        "prompt": "Enter your age:"
       },
       "output_type": "stream",
       "value": "20"
      }
     }
    },
    "collapsed": false
   },
   "outputs": [
    {
     "name": "stdout",
     "output_type": "stream",
     "text": "Enter your Gender(male or female): male"
    },
    {
     "name": "stdout",
     "output_type": "stream",
     "text": "Enter your age: 20"
    },
    {
     "name": "stdout",
     "output_type": "stream",
     "text": [
      "Not Eligible for Marriage\n"
     ]
    },
    {
     "data": {
      "text/plain": [
       "'This age  is not for enter into marriage '"
      ]
     },
     "execution_count": 4,
     "metadata": {
     },
     "output_type": "execute_result"
    }
   ],
   "source": [
    "# Create a function that tells elegibility of marriage for male and female according to their age limit like 21 for male and 18 for female\n",
    "class ElegiblityForMarriage():\n",
    "    def elegibility():\n",
    "        gender=input(\"Enter your Gender(male or female):\" )\n",
    "        age=int(input(\"Enter your age:\"))\n",
    "        if(gender==\"male\" and age>=21):\n",
    "            print(\"Eligible for Marriage\")\n",
    "            mess=\"Happy to wish you for your marriage\"\n",
    "        elif(gender==\"female\" and age>=18):\n",
    "            print(\"Eligible for Marriage\")\n",
    "            mess=\"Happy to wish you for your marriage\"\n",
    "        else:\n",
    "            print(\"Not Eligible for Marriage\")\n",
    "            mess=\"This age  is not for enter into marriage \"\n",
    "        return mess\n",
    "ElegiblityForMarriage.elegibility()\n",
    "\n"
   ]
  },
  {
   "cell_type": "code",
   "execution_count": 5,
   "id": "8a08d1",
   "metadata": {
    "cocalc": {
     "outputs": {
      "0": {
       "name": "input",
       "opts": {
        "password": false,
        "prompt": "Enter Sunject1 marks:"
       },
       "output_type": "stream",
       "value": "92"
      },
      "1": {
       "name": "input",
       "opts": {
        "password": false,
        "prompt": "Enter Sunject2 marks:"
       },
       "output_type": "stream",
       "value": "82"
      },
      "2": {
       "name": "input",
       "opts": {
        "password": false,
        "prompt": "Enter Sunject3 marks:"
       },
       "output_type": "stream",
       "value": "98"
      },
      "3": {
       "name": "input",
       "opts": {
        "password": false,
        "prompt": "Enter Sunject4 marks:"
       },
       "output_type": "stream",
       "value": "90"
      },
      "4": {
       "name": "input",
       "opts": {
        "password": false,
        "prompt": "Enter Sunject5 marks:"
       },
       "output_type": "stream",
       "value": "88"
      }
     }
    },
    "collapsed": false
   },
   "outputs": [
    {
     "name": "stdout",
     "output_type": "stream",
     "text": "Enter Sunject1 marks: 92"
    },
    {
     "name": "stdout",
     "output_type": "stream",
     "text": "Enter Sunject2 marks: 82"
    },
    {
     "name": "stdout",
     "output_type": "stream",
     "text": "Enter Sunject3 marks: 98"
    },
    {
     "name": "stdout",
     "output_type": "stream",
     "text": "Enter Sunject4 marks: 90"
    },
    {
     "name": "stdout",
     "output_type": "stream",
     "text": "Enter Sunject5 marks: 88"
    },
    {
     "name": "stdout",
     "output_type": "stream",
     "text": [
      "Total Marks: 450\n",
      "Percentage: 90.0\n"
     ]
    },
    {
     "data": {
      "text/plain": [
       "'Congratulations'"
      ]
     },
     "execution_count": 5,
     "metadata": {
     },
     "output_type": "execute_result"
    }
   ],
   "source": [
    "# calculate the percentage of your 10th mark\n",
    "class findpercentage():\n",
    "    def percentage():\n",
    "        Sub1=int(input(\"Enter Sunject1 marks:\"))\n",
    "        Sub2=int(input(\"Enter Sunject2 marks:\"))\n",
    "        Sub3=int(input(\"Enter Sunject3 marks:\"))\n",
    "        Sub4=int(input(\"Enter Sunject4 marks:\"))\n",
    "        Sub5=int(input(\"Enter Sunject5 marks:\"))\n",
    "        Total=(Sub1+Sub2+Sub3+Sub4+Sub5)\n",
    "        per=Total/5  #no of subject is 5\n",
    "        print(\"Total Marks:\",Total)\n",
    "        print(\"Percentage:\",per)\n",
    "        mess=\"Congratulations\"\n",
    "        return mess\n",
    "findpercentage.percentage()"
   ]
  },
  {
   "cell_type": "code",
   "execution_count": 6,
   "id": "c93b91",
   "metadata": {
    "cocalc": {
     "outputs": {
      "1": {
       "name": "input",
       "opts": {
        "password": false,
        "prompt": "Height:"
       },
       "output_type": "stream",
       "value": "32"
      },
      "2": {
       "name": "input",
       "opts": {
        "password": false,
        "prompt": "breath:"
       },
       "output_type": "stream",
       "value": "34"
      },
      "4": {
       "name": "input",
       "opts": {
        "password": false,
        "prompt": "Height1:"
       },
       "output_type": "stream",
       "value": "2"
      },
      "5": {
       "name": "input",
       "opts": {
        "password": false,
        "prompt": "Height2:"
       },
       "output_type": "stream",
       "value": "4"
      },
      "6": {
       "name": "input",
       "opts": {
        "password": false,
        "prompt": "breath1:"
       },
       "output_type": "stream",
       "value": "4"
      }
     }
    },
    "collapsed": false
   },
   "outputs": [
    {
     "name": "stdout",
     "output_type": "stream",
     "text": [
      "Area formula: (Height*Breadth)/2\n"
     ]
    },
    {
     "name": "stdout",
     "output_type": "stream",
     "text": "Height: 32"
    },
    {
     "name": "stdout",
     "output_type": "stream",
     "text": "breath: 34"
    },
    {
     "name": "stdout",
     "output_type": "stream",
     "text": [
      "Area of Triangle: 544.0\n",
      "Perimeter formula: Height1+Height2+Breadth\n"
     ]
    },
    {
     "name": "stdout",
     "output_type": "stream",
     "text": "Height1: 2"
    },
    {
     "name": "stdout",
     "output_type": "stream",
     "text": "Height2: 4"
    },
    {
     "name": "stdout",
     "output_type": "stream",
     "text": "breath1: 4"
    },
    {
     "name": "stdout",
     "output_type": "stream",
     "text": [
      "Perimeter of Triangle: 10\n"
     ]
    },
    {
     "data": {
      "text/plain": [
       "'Your output is here'"
      ]
     },
     "execution_count": 6,
     "metadata": {
     },
     "output_type": "execute_result"
    }
   ],
   "source": [
    "#print area and perimeter of triangle using class and functions\n",
    "class triangle():\n",
    "    def area_of_triangele():    \n",
    "        print(\"Area formula: (Height*Breadth)/2\")\n",
    "        height=int(input(\"Height:\"))\n",
    "        breath=int(input(\"breath:\"))\n",
    "        area=(height*breath)/2\n",
    "        print(\"Area of Triangle:\",area)\n",
    "        mess=\"Your output is here\"\n",
    "        return mess\n",
    "    def perimeter():\n",
    "        print(\"Perimeter formula: Height1+Height2+Breadth\")\n",
    "        height1=int(input(\"Height1:\"))\n",
    "        height2=int(input(\"Height2:\"))\n",
    "        breath1=int(input(\"breath1:\"))\n",
    "        peri=height1+height2+breath1\n",
    "        print(\"Perimeter of Triangle:\",peri)\n",
    "        mess=\"Your output is here\"\n",
    "        return mess\n",
    "triangle.area_of_triangele()\n",
    "triangle.perimeter()"
   ]
  },
  {
   "cell_type": "code",
   "execution_count": 0,
   "id": "63611f",
   "metadata": {
    "collapsed": false
   },
   "outputs": [
   ],
   "source": [
   ]
  }
 ],
 "metadata": {
  "kernelspec": {
   "argv": [
    "/usr/bin/python3",
    "-m",
    "ipykernel",
    "--HistoryManager.enabled=False",
    "--matplotlib=inline",
    "-c",
    "%config InlineBackend.figure_formats = set(['retina'])\nimport matplotlib; matplotlib.rcParams['figure.figsize'] = (12, 7)",
    "-f",
    "{connection_file}"
   ],
   "display_name": "Python 3 (system-wide)",
   "env": {
   },
   "language": "python",
   "metadata": {
    "cocalc": {
     "description": "Python 3 programming language",
     "priority": 100,
     "url": "https://www.python.org/"
    }
   },
   "name": "python3",
   "resource_dir": "/ext/jupyter/kernels/python3"
  },
  "language_info": {
   "codemirror_mode": {
    "name": "ipython",
    "version": 3
   },
   "file_extension": ".py",
   "mimetype": "text/x-python",
   "name": "python",
   "nbconvert_exporter": "python",
   "pygments_lexer": "ipython3",
   "version": "3.10.12"
  }
 },
 "nbformat": 4,
 "nbformat_minor": 4
}