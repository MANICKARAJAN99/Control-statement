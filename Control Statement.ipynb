{
 "cells": [
  {
   "cell_type": "code",
   "execution_count": 1,
   "id": "ba92a0",
   "metadata": {
    "collapsed": false
   },
   "outputs": [
    {
     "name": "stdout",
     "output_type": "stream",
     "text": [
      "HOPE AI\n"
     ]
    }
   ],
   "source": [
    "#print statement\n",
    "print(\"HOPE AI\")"
   ]
  },
  {
   "cell_type": "code",
   "execution_count": 2,
   "id": "431898",
   "metadata": {
    "cocalc": {
     "outputs": {
      "0": {
       "name": "input",
       "opts": {
        "password": false,
        "prompt": "enter your Institue name?:"
       },
       "output_type": "stream",
       "value": "HOPE AI"
      }
     }
    },
    "collapsed": false
   },
   "outputs": [
    {
     "name": "stdout",
     "output_type": "stream",
     "text": [
      "enter your Institue name?: HOPE AI"
     ]
    },
    {
     "name": "stdout",
     "output_type": "stream",
     "text": [
      "HOPE AI\n"
     ]
    }
   ],
   "source": [
    "#Buy Input\n",
    "name=input(\"enter your Institue name?:\")\n",
    "print(name)"
   ]
  },
  {
   "cell_type": "code",
   "execution_count": 3,
   "id": "691ab1",
   "metadata": {
    "cocalc": {
     "outputs": {
      "0": {
       "name": "input",
       "opts": {
        "password": false,
        "prompt": "Enter your name:"
       },
       "output_type": "stream",
       "value": "MANICKARAJAN"
      },
      "1": {
       "name": "input",
       "opts": {
        "password": false,
        "prompt": "Enter your age:"
       },
       "output_type": "stream",
       "value": "29"
      },
      "2": {
       "name": "input",
       "opts": {
        "password": false,
        "prompt": "Enter your school name:"
       },
       "output_type": "stream",
       "value": "GHSS"
      },
      "3": {
       "name": "input",
       "opts": {
        "password": false,
        "prompt": "Enter your degree:"
       },
       "output_type": "stream",
       "value": "BE-MECH"
      }
     }
    },
    "collapsed": false
   },
   "outputs": [
    {
     "name": "stdout",
     "output_type": "stream",
     "text": [
      "Enter your name: MANICKARAJAN"
     ]
    },
    {
     "name": "stdout",
     "output_type": "stream",
     "text": [
      "Enter your age: 29"
     ]
    },
    {
     "name": "stdout",
     "output_type": "stream",
     "text": [
      "Enter your school name: GHSS"
     ]
    },
    {
     "name": "stdout",
     "output_type": "stream",
     "text": [
      "Enter your degree: BE-MECH"
     ]
    },
    {
     "name": "stdout",
     "output_type": "stream",
     "text": [
      "MANICKARAJAN\n",
      "29\n",
      "GHSS\n",
      "BE-MECH\n"
     ]
    }
   ],
   "source": [
    "#Buy Inputs\n",
    "name=input(\"Enter your name:\")\n",
    "age=int(input(\"Enter your age:\"))\n",
    "school=input(\"Enter your school name:\")\n",
    "degree=input(\"Enter your degree:\")\n",
    "print(name)\n",
    "print(age)\n",
    "print(school)\n",
    "print(degree)"
   ]
  },
  {
   "cell_type": "code",
   "execution_count": 4,
   "id": "0d5e55",
   "metadata": {
    "collapsed": false
   },
   "outputs": [
    {
     "name": "stdout",
     "output_type": "stream",
     "text": [
      "77\n",
      "9\n"
     ]
    }
   ],
   "source": [
    "#Addition,Subtraction\n",
    "a=43\n",
    "b=34\n",
    "add=a+b\n",
    "sub=a-b\n",
    "print(add)\n",
    "print(sub)\n"
   ]
  },
  {
   "cell_type": "code",
   "execution_count": 5,
   "id": "eb16b8",
   "metadata": {
    "collapsed": false
   },
   "outputs": [
    {
     "name": "stdout",
     "output_type": "stream",
     "text": [
      "6111\n"
     ]
    }
   ],
   "source": [
    "#mulitiplication\n",
    "a=63\n",
    "b=97\n",
    "mul=a*b\n",
    "print(mul)"
   ]
  },
  {
   "cell_type": "code",
   "execution_count": 6,
   "id": "655937",
   "metadata": {
    "collapsed": false
   },
   "outputs": [
    {
     "name": "stdout",
     "output_type": "stream",
     "text": [
      "2.4516129032258065\n"
     ]
    }
   ],
   "source": [
    "#divition\n",
    "a=76\n",
    "b=31\n",
    "div=a/b\n",
    "print(div)"
   ]
  },
  {
   "cell_type": "code",
   "execution_count": 3,
   "id": "0faef3",
   "metadata": {
    "collapsed": false
   },
   "outputs": [
    {
     "name": "stdout",
     "output_type": "stream",
     "text": [
      "2\n"
     ]
    }
   ],
   "source": [
    "#Floor Divition\n",
    "a=76\n",
    "b=31\n",
    "div=a//b\n",
    "print(div)"
   ]
  },
  {
   "cell_type": "code",
   "execution_count": 4,
   "id": "a8b6cb",
   "metadata": {
    "collapsed": false
   },
   "outputs": [
    {
     "name": "stdout",
     "output_type": "stream",
     "text": [
      "14\n"
     ]
    }
   ],
   "source": [
    "#Modulo\n",
    "a=76\n",
    "b=31\n",
    "modulo=a%b\n",
    "print(modulo)\n"
   ]
  },
  {
   "cell_type": "code",
   "execution_count": 5,
   "id": "4238d1",
   "metadata": {
    "collapsed": false
   },
   "outputs": [
    {
     "name": "stdout",
     "output_type": "stream",
     "text": [
      "256\n"
     ]
    }
   ],
   "source": [
    "#power\n",
    "a=4\n",
    "b=4\n",
    "power=pow(a,b)\n",
    "print(power)"
   ]
  },
  {
   "cell_type": "code",
   "execution_count": 6,
   "id": "3fe0fe",
   "metadata": {
    "collapsed": false
   },
   "outputs": [
    {
     "name": "stdout",
     "output_type": "stream",
     "text": [
      "0\n",
      "1\n",
      "2\n",
      "3\n",
      "4\n",
      "5\n",
      "6\n",
      "7\n",
      "8\n",
      "9\n",
      "10\n",
      "11\n",
      "12\n",
      "13\n",
      "14\n",
      "15\n",
      "16\n",
      "17\n",
      "18\n",
      "19\n"
     ]
    }
   ],
   "source": [
    "# print 0 to 20 by using range\n",
    "for i in range(0,20):\n",
    "    print(i)"
   ]
  },
  {
   "cell_type": "code",
   "execution_count": 7,
   "id": "d6e208",
   "metadata": {
    "collapsed": false
   },
   "outputs": [
    {
     "name": "stdout",
     "output_type": "stream",
     "text": [
      "10 11 12 13 14 15 16 17 18 19 "
     ]
    }
   ],
   "source": [
    "# print range 10 to 20\n",
    "for i in range (10,20):\n",
    "    print(i,end=\" \")"
   ]
  },
  {
   "cell_type": "code",
   "execution_count": 8,
   "id": "b893ef",
   "metadata": {
    "collapsed": false
   },
   "outputs": [
    {
     "name": "stdout",
     "output_type": "stream",
     "text": [
      "Number of item in the list: 7\n"
     ]
    }
   ],
   "source": [
    "# Print number of items in the list by using 'len'\n",
    "lists=[10, 20, 14, 55, 43, 87, 76]\n",
    "print(\"Number of item in the list:\",len(lists))"
   ]
  },
  {
   "cell_type": "code",
   "execution_count": 3,
   "id": "b04dff",
   "metadata": {
    "collapsed": false
   },
   "outputs": [
    {
     "name": "stdout",
     "output_type": "stream",
     "text": [
      "A\n",
      "r\n",
      "t\n",
      "i\n",
      "f\n",
      "i\n",
      "c\n",
      "i\n",
      "a\n",
      "l\n",
      " \n",
      "I\n",
      "n\n",
      "t\n",
      "e\n",
      "l\n",
      "l\n",
      "i\n",
      "g\n",
      "e\n",
      "n\n",
      "c\n",
      "e\n"
     ]
    }
   ],
   "source": [
    "#Artificial Intelligence\n",
    "name='Artificial Intelligence'\n",
    "for i in(name):\n",
    "    print(i)"
   ]
  },
  {
   "cell_type": "code",
   "execution_count": 4,
   "id": "affa11",
   "metadata": {
    "cocalc": {
     "outputs": {
      "0": {
       "name": "input",
       "opts": {
        "password": false,
        "prompt": "Enter your name:"
       },
       "output_type": "stream",
       "value": "MANICKARAJAN G"
      },
      "1": {
       "name": "input",
       "opts": {
        "password": false,
        "prompt": "Enter your age:"
       },
       "output_type": "stream",
       "value": "29"
      },
      "2": {
       "name": "input",
       "opts": {
        "password": false,
        "prompt": "Enter your profession:"
       },
       "output_type": "stream",
       "value": "AI learner"
      }
     }
    },
    "collapsed": false
   },
   "outputs": [
    {
     "name": "stdout",
     "output_type": "stream",
     "text": [
      "Enter your name: MANICKARAJAN G"
     ]
    },
    {
     "name": "stdout",
     "output_type": "stream",
     "text": [
      "Enter your age: 29"
     ]
    },
    {
     "name": "stdout",
     "output_type": "stream",
     "text": [
      "Enter your profession: AI learner"
     ]
    },
    {
     "name": "stdout",
     "output_type": "stream",
     "text": [
      "MANICKARAJAN G\n",
      "29\n",
      "AI learner\n"
     ]
    }
   ],
   "source": [
    "#-Your Name-/-Your Age-/-Your Profession-\n",
    "name=input(\"Enter your name:\")\n",
    "age=int(input(\"Enter your age:\"))\n",
    "profession=input(\"Enter your profession:\")\n",
    "print(name)\n",
    "print(age)\n",
    "print(profession)"
   ]
  },
  {
   "cell_type": "code",
   "execution_count": 6,
   "id": "872c6d",
   "metadata": {
    "collapsed": false
   },
   "outputs": [
    {
     "name": "stdout",
     "output_type": "stream",
     "text": [
      "(1, 'Welcome', 2, 'Hope')\n"
     ]
    }
   ],
   "source": [
    "# Print yhis mixered datatype using Tuples\n",
    "Tuple=(1,\"Welcome\",2,\"Hope\")\n",
    "print(Tuple)"
   ]
  },
  {
   "cell_type": "code",
   "execution_count": 7,
   "id": "d5e6cb",
   "metadata": {
    "collapsed": false
   },
   "outputs": [
    {
     "name": "stdout",
     "output_type": "stream",
     "text": [
      "((0, 1, 2, 3), ('Python', 'HOPE'))\n"
     ]
    }
   ],
   "source": [
    "#((0, 1, 2, 3), ('python', 'HOPE'))\n",
    "Tuple1=(0,1,2,3)\n",
    "Tuple2=(\"Python\",\"HOPE\")\n",
    "print((Tuple1,Tuple2))"
   ]
  },
  {
   "cell_type": "code",
   "execution_count": 1,
   "id": "d1b79e",
   "metadata": {
    "collapsed": false
   },
   "outputs": [
    {
     "name": "stdout",
     "output_type": "stream",
     "text": [
      "19 odd\n",
      "25 odd\n",
      "1 odd\n"
     ]
    }
   ],
   "source": [
    "## print Odd Numbers in the list\n",
    "Tuple=(20,10,16,19,25,1,276,188)\n",
    "for i in range(len(Tuple)):\n",
    "    if(Tuple[i]%2!=0):\n",
    "        print(Tuple[i],\"odd\")"
   ]
  },
  {
   "cell_type": "code",
   "execution_count": 2,
   "id": "06d581",
   "metadata": {
    "collapsed": false
   },
   "outputs": [
    {
     "name": "stdout",
     "output_type": "stream",
     "text": [
      "20 Even\n",
      "10 Even\n",
      "16 Even\n",
      "276 Even\n",
      "188 Even\n"
     ]
    }
   ],
   "source": [
    "## print Odd Numbers in the list\n",
    "Tuple=(20,10,16,19,25,1,276,188)\n",
    "for i in range(len(Tuple)):\n",
    "    if(Tuple[i]%2!=1):\n",
    "        print(Tuple[i],\"Even\")"
   ]
  }
 ],
 "metadata": {
  "kernelspec": {
   "argv": [
    "/usr/bin/python3",
    "-m",
    "ipykernel",
    "--HistoryManager.enabled=False",
    "--matplotlib=inline",
    "-c",
    "%config InlineBackend.figure_formats = set(['retina'])\nimport matplotlib; matplotlib.rcParams['figure.figsize'] = (12, 7)",
    "-f",
    "{connection_file}"
   ],
   "display_name": "Python 3 (system-wide)",
   "env": {},
   "language": "python",
   "metadata": {
    "cocalc": {
     "description": "Python 3 programming language",
     "priority": 100,
     "url": "https://www.python.org/"
    }
   },
   "name": "python3",
   "resource_dir": "/ext/jupyter/kernels/python3"
  },
  "language_info": {
   "codemirror_mode": {
    "name": "ipython",
    "version": 3
   },
   "file_extension": ".py",
   "mimetype": "text/x-python",
   "name": "python",
   "nbconvert_exporter": "python",
   "pygments_lexer": "ipython3",
   "version": "3.10.12"
  }
 },
 "nbformat": 4,
 "nbformat_minor": 4
}
